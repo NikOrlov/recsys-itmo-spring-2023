{
 "cells": [
  {
   "cell_type": "code",
   "execution_count": 1,
   "metadata": {
    "id": "1CmEukeg8Njd"
   },
   "outputs": [],
   "source": [
    "from collections import namedtuple\n",
    "\n",
    "import pandas as pd\n",
    "import numpy as np\n",
    "\n",
    "import torch\n",
    "import torch.nn as nn\n",
    "import torch.nn.functional as F\n",
    "import torch.utils.data as td\n",
    "\n",
    "import pytorch_lightning as pl\n",
    "\n",
    "import tqdm\n",
    "import json\n",
    "import sklearn.metrics as sm\n",
    "\n",
    "import tensorboardX as tb\n",
    "# import tensorflow as tf\n",
    "import datetime, os\n",
    "\n",
    "import matplotlib.pyplot as plt\n",
    "import seaborn as sns\n",
    "\n",
    "np.random.seed(31337)"
   ]
  },
  {
   "cell_type": "code",
   "execution_count": 2,
   "metadata": {},
   "outputs": [],
   "source": [
    "DATA_DIR = 'data'"
   ]
  },
  {
   "cell_type": "code",
   "execution_count": 3,
   "metadata": {},
   "outputs": [],
   "source": [
    "tracks = pd.read_json(os.path.join(DATA_DIR, 'tracks.json'), lines=True)"
   ]
  },
  {
   "cell_type": "code",
   "execution_count": 4,
   "metadata": {},
   "outputs": [],
   "source": [
    "artist_dict = {}\n",
    "artist_dict['artist'] = tracks.artist.unique().tolist()\n",
    "df_artist = pd.DataFrame.from_dict(artist_dict)\n",
    "df_artist['artist_id'] = list(range(len(df_artist)))"
   ]
  },
  {
   "cell_type": "code",
   "execution_count": 5,
   "metadata": {},
   "outputs": [],
   "source": [
    "df_artist.to_csv(os.path.join(DATA_DIR, 'artists.csv'))"
   ]
  },
  {
   "cell_type": "code",
   "execution_count": 6,
   "metadata": {},
   "outputs": [],
   "source": [
    "df_artist.set_index('artist', inplace=True)"
   ]
  },
  {
   "cell_type": "code",
   "execution_count": 7,
   "metadata": {},
   "outputs": [],
   "source": [
    "tracks = tracks.join(df_artist, on='artist')"
   ]
  },
  {
   "cell_type": "code",
   "execution_count": 8,
   "metadata": {},
   "outputs": [],
   "source": [
    "DATA_DIR = 'data'\n",
    "train_data = pd.read_csv(os.path.join(DATA_DIR, 'train_data.csv'))\n",
    "val_data = pd.read_csv(os.path.join(DATA_DIR, 'val_data.csv'))\n",
    "test_data = pd.read_csv(os.path.join(DATA_DIR, 'test_data.csv'))"
   ]
  },
  {
   "cell_type": "code",
   "execution_count": 9,
   "metadata": {},
   "outputs": [],
   "source": [
    "def add_artist(df, df_with_artists):\n",
    "    df_new = df.join(df_with_artists.set_index('track')['artist_id'], on='start')\n",
    "    df_new = df_new.join(df_with_artists.set_index('track')['artist_id'], on='track', rsuffix='_track')\n",
    "    df_new = df_new.rename(columns={'artist_id': 'artist_context', 'artist_id_track': 'artist_track'})\n",
    "    assert len(df_new) == len(df)\n",
    "    return df_new"
   ]
  },
  {
   "cell_type": "code",
   "execution_count": 10,
   "metadata": {},
   "outputs": [],
   "source": [
    "train_data_artist = add_artist(train_data, tracks)\n",
    "val_data_artist = add_artist(val_data, tracks)\n",
    "test_data_artist = add_artist(test_data, tracks)"
   ]
  },
  {
   "cell_type": "code",
   "execution_count": 11,
   "metadata": {},
   "outputs": [],
   "source": [
    "train_data_artist.to_csv(os.path.join(DATA_DIR, 'train_data_artist.csv'), index=None)\n",
    "val_data_artist.to_csv(os.path.join(DATA_DIR, 'val_data_artist.csv'), index=None)\n",
    "test_data_artist.to_csv(os.path.join(DATA_DIR, 'test_data_artist.csv'), index=None)"
   ]
  },
  {
   "cell_type": "code",
   "execution_count": 12,
   "metadata": {},
   "outputs": [
    {
     "data": {
      "text/html": [
       "<div>\n",
       "<style scoped>\n",
       "    .dataframe tbody tr th:only-of-type {\n",
       "        vertical-align: middle;\n",
       "    }\n",
       "\n",
       "    .dataframe tbody tr th {\n",
       "        vertical-align: top;\n",
       "    }\n",
       "\n",
       "    .dataframe thead th {\n",
       "        text-align: right;\n",
       "    }\n",
       "</style>\n",
       "<table border=\"1\" class=\"dataframe\">\n",
       "  <thead>\n",
       "    <tr style=\"text-align: right;\">\n",
       "      <th></th>\n",
       "      <th>user</th>\n",
       "      <th>start</th>\n",
       "      <th>track</th>\n",
       "      <th>time</th>\n",
       "      <th>artist_context</th>\n",
       "      <th>artist_track</th>\n",
       "    </tr>\n",
       "  </thead>\n",
       "  <tbody>\n",
       "    <tr>\n",
       "      <th>0</th>\n",
       "      <td>0</td>\n",
       "      <td>2999</td>\n",
       "      <td>5089</td>\n",
       "      <td>0.00</td>\n",
       "      <td>1355</td>\n",
       "      <td>443</td>\n",
       "    </tr>\n",
       "    <tr>\n",
       "      <th>1</th>\n",
       "      <td>0</td>\n",
       "      <td>2999</td>\n",
       "      <td>7960</td>\n",
       "      <td>0.00</td>\n",
       "      <td>1355</td>\n",
       "      <td>969</td>\n",
       "    </tr>\n",
       "    <tr>\n",
       "      <th>2</th>\n",
       "      <td>0</td>\n",
       "      <td>2999</td>\n",
       "      <td>1725</td>\n",
       "      <td>0.00</td>\n",
       "      <td>1355</td>\n",
       "      <td>304</td>\n",
       "    </tr>\n",
       "    <tr>\n",
       "      <th>3</th>\n",
       "      <td>0</td>\n",
       "      <td>2999</td>\n",
       "      <td>2606</td>\n",
       "      <td>0.00</td>\n",
       "      <td>1355</td>\n",
       "      <td>1197</td>\n",
       "    </tr>\n",
       "    <tr>\n",
       "      <th>4</th>\n",
       "      <td>0</td>\n",
       "      <td>31348</td>\n",
       "      <td>2224</td>\n",
       "      <td>0.00</td>\n",
       "      <td>241</td>\n",
       "      <td>1009</td>\n",
       "    </tr>\n",
       "    <tr>\n",
       "      <th>...</th>\n",
       "      <td>...</td>\n",
       "      <td>...</td>\n",
       "      <td>...</td>\n",
       "      <td>...</td>\n",
       "      <td>...</td>\n",
       "      <td>...</td>\n",
       "    </tr>\n",
       "    <tr>\n",
       "      <th>572582</th>\n",
       "      <td>9999</td>\n",
       "      <td>2688</td>\n",
       "      <td>12</td>\n",
       "      <td>0.00</td>\n",
       "      <td>1213</td>\n",
       "      <td>11</td>\n",
       "    </tr>\n",
       "    <tr>\n",
       "      <th>572583</th>\n",
       "      <td>9999</td>\n",
       "      <td>44241</td>\n",
       "      <td>2580</td>\n",
       "      <td>0.02</td>\n",
       "      <td>3235</td>\n",
       "      <td>374</td>\n",
       "    </tr>\n",
       "    <tr>\n",
       "      <th>572584</th>\n",
       "      <td>9999</td>\n",
       "      <td>44241</td>\n",
       "      <td>7960</td>\n",
       "      <td>0.25</td>\n",
       "      <td>3235</td>\n",
       "      <td>969</td>\n",
       "    </tr>\n",
       "    <tr>\n",
       "      <th>572585</th>\n",
       "      <td>9999</td>\n",
       "      <td>44241</td>\n",
       "      <td>5372</td>\n",
       "      <td>0.00</td>\n",
       "      <td>3235</td>\n",
       "      <td>5</td>\n",
       "    </tr>\n",
       "    <tr>\n",
       "      <th>572586</th>\n",
       "      <td>9999</td>\n",
       "      <td>44241</td>\n",
       "      <td>39830</td>\n",
       "      <td>0.00</td>\n",
       "      <td>3235</td>\n",
       "      <td>9772</td>\n",
       "    </tr>\n",
       "  </tbody>\n",
       "</table>\n",
       "<p>572587 rows × 6 columns</p>\n",
       "</div>"
      ],
      "text/plain": [
       "        user  start  track  time  artist_context  artist_track\n",
       "0          0   2999   5089  0.00            1355           443\n",
       "1          0   2999   7960  0.00            1355           969\n",
       "2          0   2999   1725  0.00            1355           304\n",
       "3          0   2999   2606  0.00            1355          1197\n",
       "4          0  31348   2224  0.00             241          1009\n",
       "...      ...    ...    ...   ...             ...           ...\n",
       "572582  9999   2688     12  0.00            1213            11\n",
       "572583  9999  44241   2580  0.02            3235           374\n",
       "572584  9999  44241   7960  0.25            3235           969\n",
       "572585  9999  44241   5372  0.00            3235             5\n",
       "572586  9999  44241  39830  0.00            3235          9772\n",
       "\n",
       "[572587 rows x 6 columns]"
      ]
     },
     "execution_count": 12,
     "metadata": {},
     "output_type": "execute_result"
    }
   ],
   "source": [
    "train_data_artist"
   ]
  },
  {
   "cell_type": "code",
   "execution_count": null,
   "metadata": {},
   "outputs": [],
   "source": []
  }
 ],
 "metadata": {
  "accelerator": "GPU",
  "colab": {
   "provenance": []
  },
  "gpuClass": "standard",
  "kernelspec": {
   "display_name": "Python 3 (ipykernel)",
   "language": "python",
   "name": "python3"
  },
  "language_info": {
   "codemirror_mode": {
    "name": "ipython",
    "version": 3
   },
   "file_extension": ".py",
   "mimetype": "text/x-python",
   "name": "python",
   "nbconvert_exporter": "python",
   "pygments_lexer": "ipython3",
   "version": "3.7.16"
  }
 },
 "nbformat": 4,
 "nbformat_minor": 1
}
